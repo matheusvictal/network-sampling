{
 "cells": [
  {
   "cell_type": "markdown",
   "metadata": {},
   "source": [
    "# Snowball Sampling (SB)\n",
    "\n",
    "#### Matheus Victal Cerqueira, _Universidade de São Paulo_ , [_Instituto de Ciências Matemáticas e de Computação_](https://www.icmc.usp.br/). "
   ]
  },
  {
   "cell_type": "code",
   "execution_count": null,
   "metadata": {},
   "outputs": [],
   "source": [
    "def snowball(G,n,seeds): # G is the graph of interest and n is the sample size and seeds is the number of initial nodes\n",
    "    import random as rd \n",
    "    \n",
    "    in_sampled_nodes = rd.sample(G.nodes,seeds)\n",
    "    aux1 = in_sampled_nodes # current stage nodes list\n",
    "    edgelist = [] # auxiliar list to make sample subgraph later\n",
    "    \n",
    "    nodelist = in_sampled_nodes # total nodes samples list\n",
    "    \n",
    "    while len(nodelist)<n:\n",
    "        aux2 = [] # current neighbors list in the current snowball stage\n",
    "\n",
    "        for i in aux1: # iteration in current nodes\n",
    "            if len(nodelist)>=n: # verification for the sample size\n",
    "                break\n",
    "            neighbors = [] #neighbors list\n",
    "            \n",
    "            for k in list(G.neighbors(i)): # adding to the current neighbors list in the snowball stage\n",
    "                if k not in nodelist:\n",
    "                    neighbors.append(k)\n",
    "                else:\n",
    "                    edgelist.append((i,k))\n",
    "                    \n",
    "            aux2 = aux2 + neighbors        \n",
    "                \n",
    "            for j in neighbors: # iteration in i's neighbors\n",
    "                \n",
    "                #Obs.: we can put a probability p in the command if we want to randomize the neighbor addition to the sample\n",
    "                edgelist.append((i,j)) # appending to the edgelist\n",
    "                nodelist.append(j) # count incrementation\n",
    "                \n",
    "                if len(nodelist)>=n: # verification for the sample size\n",
    "                    last_node = j\n",
    "                    break\n",
    "                    \n",
    "        aux1 = aux2 # now, the neighbors are the current stage nodes\n",
    "        \n",
    "    sampled_graph = nx.Graph(edgelist)\n",
    "    \n",
    "    if len(sampled_graph)>n:\n",
    "        sampled_graph.remove_node(last_node)\n",
    "    \n",
    "    return sampled_graph"
   ]
  }
 ],
 "metadata": {
  "kernelspec": {
   "display_name": "Python 3",
   "language": "python",
   "name": "python3"
  },
  "language_info": {
   "codemirror_mode": {
    "name": "ipython",
    "version": 3
   },
   "file_extension": ".py",
   "mimetype": "text/x-python",
   "name": "python",
   "nbconvert_exporter": "python",
   "pygments_lexer": "ipython3",
   "version": "3.8.5"
  }
 },
 "nbformat": 4,
 "nbformat_minor": 4
}
